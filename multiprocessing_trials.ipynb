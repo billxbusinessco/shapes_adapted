{
 "cells": [
  {
   "cell_type": "code",
   "execution_count": 13,
   "id": "a15bfa70",
   "metadata": {},
   "outputs": [
    {
     "name": "stdout",
     "output_type": "stream",
     "text": [
      "The autoreload extension is already loaded. To reload it, use:\n",
      "  %reload_ext autoreload\n"
     ]
    }
   ],
   "source": [
    "%load_ext autoreload\n",
    "%autoreload 2\n",
    "import warnings\n",
    "warnings.simplefilter(action='ignore', category=FutureWarning)\n",
    "from study_library import *\n",
    "first_analysis = analysis()"
   ]
  },
  {
   "cell_type": "code",
   "execution_count": 15,
   "id": "0af01621",
   "metadata": {},
   "outputs": [
    {
     "name": "stderr",
     "output_type": "stream",
     "text": [
      "/Users/billpro/shapes_adapted/study_library.py:186: FutureWarning: The behavior of DataFrame concatenation with empty or all-NA entries is deprecated. In a future version, this will no longer exclude empty or all-NA columns when determining the result dtypes. To retain the old behavior, exclude the relevant entries before the concat operation.\n",
      "  df = pd.concat([df, pd.DataFrame(new_rows)], ignore_index=True)\n",
      "/Users/billpro/shapes_adapted/study_library.py:186: FutureWarning: The behavior of DataFrame concatenation with empty or all-NA entries is deprecated. In a future version, this will no longer exclude empty or all-NA columns when determining the result dtypes. To retain the old behavior, exclude the relevant entries before the concat operation.\n",
      "  df = pd.concat([df, pd.DataFrame(new_rows)], ignore_index=True)\n",
      "/Users/billpro/shapes_adapted/study_library.py:186: FutureWarning: The behavior of DataFrame concatenation with empty or all-NA entries is deprecated. In a future version, this will no longer exclude empty or all-NA columns when determining the result dtypes. To retain the old behavior, exclude the relevant entries before the concat operation.\n",
      "  df = pd.concat([df, pd.DataFrame(new_rows)], ignore_index=True)\n",
      "/Users/billpro/shapes_adapted/study_library.py:186: FutureWarning: The behavior of DataFrame concatenation with empty or all-NA entries is deprecated. In a future version, this will no longer exclude empty or all-NA columns when determining the result dtypes. To retain the old behavior, exclude the relevant entries before the concat operation.\n",
      "  df = pd.concat([df, pd.DataFrame(new_rows)], ignore_index=True)\n",
      "/Users/billpro/shapes_adapted/study_library.py:186: FutureWarning: The behavior of DataFrame concatenation with empty or all-NA entries is deprecated. In a future version, this will no longer exclude empty or all-NA columns when determining the result dtypes. To retain the old behavior, exclude the relevant entries before the concat operation.\n",
      "  df = pd.concat([df, pd.DataFrame(new_rows)], ignore_index=True)\n",
      "/Users/billpro/shapes_adapted/study_library.py:186: FutureWarning: The behavior of DataFrame concatenation with empty or all-NA entries is deprecated. In a future version, this will no longer exclude empty or all-NA columns when determining the result dtypes. To retain the old behavior, exclude the relevant entries before the concat operation.\n",
      "  df = pd.concat([df, pd.DataFrame(new_rows)], ignore_index=True)\n",
      "/Users/billpro/shapes_adapted/study_library.py:186: FutureWarning: The behavior of DataFrame concatenation with empty or all-NA entries is deprecated. In a future version, this will no longer exclude empty or all-NA columns when determining the result dtypes. To retain the old behavior, exclude the relevant entries before the concat operation.\n",
      "  df = pd.concat([df, pd.DataFrame(new_rows)], ignore_index=True)\n"
     ]
    }
   ],
   "source": [
    "lol = first_analysis.weighted_generation_parallel()"
   ]
  },
  {
   "cell_type": "code",
   "execution_count": null,
   "id": "82c489df",
   "metadata": {},
   "outputs": [],
   "source": [
    "lol = first_analysis.weighted_generation_parallel()\n",
    "spectra = np.concatenate(lol)\n",
    "minimas = first_analysis.find_min_dataset(spectra)\n",
    "mean_minimas = np.mean(minimas)\n",
    "var_minimas = np.var(minimas)"
   ]
  },
  {
   "cell_type": "code",
   "execution_count": 7,
   "id": "e9693e13",
   "metadata": {},
   "outputs": [
    {
     "data": {
      "text/plain": [
       "(array([[ 4.79763912e-01-0.00000000e+00j, -1.09991316e-01+4.70185207e-02j,\n",
       "          6.23349824e-02-5.73509420e-02j, ...,\n",
       "          2.52039302e-04-4.27363740e-04j,  1.05062410e-04+6.61814665e-04j,\n",
       "          7.75329695e-04+3.21065808e-04j],\n",
       "        [ 5.04230500e-01-0.00000000e+00j,  5.75986498e-02-2.61033984e-03j,\n",
       "          9.51882138e-02-2.53009493e-02j, ...,\n",
       "          1.16602622e-03-1.16696971e-03j,  1.06084665e-03+7.83002070e-04j,\n",
       "          4.39664175e-04-2.43083846e-04j],\n",
       "        [ 4.41281929e-01-0.00000000e+00j,  8.24474589e-02-7.17046970e-03j,\n",
       "          9.78373063e-02-3.40916703e-02j, ...,\n",
       "          1.50664808e-03+6.38086528e-05j, -6.25226273e-04+1.33856065e-04j,\n",
       "          8.79046141e-04-4.09395934e-04j],\n",
       "        ...,\n",
       "        [ 5.27738055e-01-0.00000000e+00j, -4.08672983e-02-1.03910434e-02j,\n",
       "         -1.82393960e-02+7.89784944e-02j, ...,\n",
       "          3.86984778e-04+1.07378540e-03j,  7.48007619e-04-2.76730647e-04j,\n",
       "         -3.97731163e-04+3.29418112e-04j],\n",
       "        [ 5.64669046e-01-0.00000000e+00j, -1.99436672e-02+3.55689276e-02j,\n",
       "          4.32398500e-02+8.18631387e-02j, ...,\n",
       "         -1.24036044e-03+9.65846252e-05j,  1.64337430e-03+4.48924258e-05j,\n",
       "         -2.59569050e-04-1.19119724e-03j],\n",
       "        [ 5.13863950e-01-0.00000000e+00j,  5.41983067e-03+1.57910973e-02j,\n",
       "         -1.03302546e-01+6.57394823e-02j, ...,\n",
       "          1.47644244e-03-2.16556111e-03j,  1.24339787e-03-1.36016671e-03j,\n",
       "         -3.66351768e-04+3.17815737e-04j]]),\n",
       "                                           curve_points      area  perimeter  \\\n",
       " 0    [[-0.4174649402586017, -0.2936749267064148, 0.... -1.909611   3.153838   \n",
       " 1    [[-0.6052401299797792, -0.7573751247303226, 0.... -2.886363   3.564004   \n",
       " 2    [[0.7265443284869306, -0.424163924275075, 0.0]... -1.464822   3.065067   \n",
       " 3    [[0.13281983394167474, -0.2431586840649297, 0.... -0.431328   2.473601   \n",
       " 4    [[0.11366927164824914, -0.49398899531063484, 0... -1.069015   2.359648   \n",
       " ..                                                 ...       ...        ...   \n",
       " 137  [[-0.6553709609719389, -0.06300724343041109, 0... -2.611931   3.298830   \n",
       " 138  [[-0.6152657486409703, -0.275850078375269, 0.0... -2.429910   3.163267   \n",
       " 139  [[-0.5399441990439394, -0.7068419777655923, 0.... -2.793532   3.548355   \n",
       " 140  [[0.01924302517267107, -0.5471951356224893, 0.... -1.952144   2.888811   \n",
       " 141  [[-0.4216723150217002, -0.76832507312456, 0.0]... -2.504482   3.337695   \n",
       " \n",
       "     bitmap                                             angles  \\\n",
       " 0        0  [-2.528540238274732, -2.5133455277510217, -2.4...   \n",
       " 1        0  [-2.2450057071931564, -2.203175533326227, -2.1...   \n",
       " 2        0  [-0.528430104290169, -0.5041703948041043, -0.4...   \n",
       " 3        0  [-1.0708544817357508, -1.0581349906113624, -1....   \n",
       " 4        0  [-1.3446283436324238, -1.322484601253479, -1.2...   \n",
       " ..     ...                                                ...   \n",
       " 137      0  [-3.0457474083796363, -3.0198718351957057, -2....   \n",
       " 138      0  [-2.720117561962236, -2.6780008319991673, -2.6...   \n",
       " 139      0  [-2.2231231774609537, -2.1699650810214366, -2....   \n",
       " 140      0  [-1.535644153057049, -1.507405440194149, -1.47...   \n",
       " 141      0  [-2.0727332846668967, -2.0282168642264105, -1....   \n",
       " \n",
       "                                                spectra  \n",
       " 0    [(0.47976391215614445-0j), (-0.109991316006728...  \n",
       " 1    [(0.5042304999634277-0j), (0.0575986498319098-...  \n",
       " 2    [(0.4412819290363798-0j), (0.08244745894783824...  \n",
       " 3    [(0.3302531994443254-0j), (-0.0419698850036820...  \n",
       " 4    [(0.33320594456566216-0j), (0.0099207510720210...  \n",
       " ..                                                 ...  \n",
       " 137  [(0.4912936554256611-0j), (-0.0036554336579614...  \n",
       " 138  [(0.44731994677094444-0j), (0.0074470841222379...  \n",
       " 139  [(0.4831344964787018-0j), (0.0598595235505454+...  \n",
       " 140  [(0.4136324270631995-0j), (-0.0134374179494220...  \n",
       " 141  [(0.4683641156534614-0j), (0.0417761459977097+...  \n",
       " \n",
       " [142 rows x 6 columns])"
      ]
     },
     "execution_count": 7,
     "metadata": {},
     "output_type": "execute_result"
    }
   ],
   "source": [
    "first_analysis.weighted_generation()"
   ]
  },
  {
   "cell_type": "code",
   "execution_count": null,
   "id": "8002d421",
   "metadata": {},
   "outputs": [],
   "source": []
  }
 ],
 "metadata": {
  "kernelspec": {
   "display_name": "research_project",
   "language": "python",
   "name": "python3"
  },
  "language_info": {
   "codemirror_mode": {
    "name": "ipython",
    "version": 3
   },
   "file_extension": ".py",
   "mimetype": "text/x-python",
   "name": "python",
   "nbconvert_exporter": "python",
   "pygments_lexer": "ipython3",
   "version": "3.9.21"
  }
 },
 "nbformat": 4,
 "nbformat_minor": 5
}
