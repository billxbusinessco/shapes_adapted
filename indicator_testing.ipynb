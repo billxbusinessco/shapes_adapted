{
 "cells": [
  {
   "cell_type": "code",
   "execution_count": 16,
   "id": "9844a655",
   "metadata": {},
   "outputs": [],
   "source": [
    "# Generic imports\n",
    "#%%\n",
    "import os\n",
    "import random\n",
    "import shutil\n",
    "import progress.bar\n",
    "from   datetime import datetime\n",
    "from scipy.stats import qmc\n",
    "import pandas as pd\n",
    "\n",
    "\n",
    "import shapes\n",
    "import meshes\n",
    "import importlib\n",
    "\n",
    "importlib.reload(shapes)\n",
    "importlib.reload(meshes)\n",
    "\n",
    "from shapes import *\n",
    "from meshes import *\n",
    "\n",
    "### ************************************************\n",
    "### Generate full dataset\n",
    "# Parameters\n",
    "def generate_samples(numero_samples,n_base,coors, latin_gen_bool):\n",
    "    n_sampling_pts = 20\n",
    "    mesh_domain    = False\n",
    "    plot_pts       = True\n",
    "    show_quadrants = True\n",
    "    n_shapes       = numero_samples\n",
    "    time           = datetime.now().strftime('%Y-%m-%d_%H_%M_%S')\n",
    "    dataset_dir    = 'dataset_'+time+'/'\n",
    "    mesh_dir       = dataset_dir+'meshes/'\n",
    "    img_dir        = dataset_dir+'images/'\n",
    "    det_img_dir    = dataset_dir+'det_images/'\n",
    "    bit_img_dir    = dataset_dir+'bit_images/'\n",
    "    save_det_plot = False\n",
    "\n",
    "    filename       = 'shape'\n",
    "    magnify        = 1.0\n",
    "    max_radius = (2)**0.5\n",
    "    xmin           =-2.0\n",
    "    xmax           = 2.0\n",
    "    ymin           =-2.0\n",
    "    ymax           = 2.0\n",
    "    n_tri_max      = 5000\n",
    "    n_pts = n_base\n",
    "\n",
    "    ### generate latin hypercube points in the defined space\n",
    "    equ_dim_lim = 1.5\n",
    "\n",
    "    if latin_gen_bool != False:\n",
    "        latin_gen = qmc.LatinHypercube(d=n_pts*2)\n",
    "        latin_gen = latin_gen.random(n=n_shapes)\n",
    "        latin_gen = equ_dim_lim * latin_gen\n",
    "\n",
    "        latin_gend2 = qmc.LatinHypercube(d=n_pts*2)\n",
    "        latin_gend2 = latin_gend2.random(n=n_shapes)\n",
    "        latin_gend2 = latin_gend2 * 0.9\n",
    "        radius_tot = latin_gend2.reshape(-1,n_shapes,n_pts)\n",
    "        edgy_tot   = latin_gend2.reshape(-1,n_shapes,n_pts)\n",
    "    else:\n",
    "        latin_gen = False\n",
    "\n",
    "\n",
    "    # Create directories if necessary\n",
    "    if not os.path.exists(mesh_dir):\n",
    "        os.makedirs(mesh_dir)\n",
    "    if not os.path.exists(img_dir):\n",
    "        os.makedirs(img_dir)\n",
    "    if not os.path.exists(det_img_dir):\n",
    "        os.makedirs(det_img_dir)\n",
    "    if not os.path.exists(bit_img_dir):\n",
    "        os.makedirs(bit_img_dir)\n",
    "\n",
    "    # Generate dataset\n",
    "    bar = progress.bar.Bar('Generating shapes', max=n_shapes)\n",
    "    df = pd.DataFrame(columns=['curve_points', 'area', 'perimeter','bitmap'])\n",
    "\n",
    "    for i in range(0,n_shapes):\n",
    "        generated = False\n",
    "        while (not generated):\n",
    "            if not latin_gen_bool:\n",
    "                #n_pts  = random.randint(3, 7)\n",
    "                radius = np.random.uniform(0.0, .9, size=n_pts)*0\n",
    "                edgy   = np.random.uniform(0.0, .9, size=n_pts)*0\n",
    "            else:\n",
    "                radius = radius_tot[0,i,:]\n",
    "                edgy   = radius_tot[1,i,:]\n",
    "\n",
    "            shape  = Shape(filename+'_'+str(i),\n",
    "                        coors,\n",
    "                        n_pts,\n",
    "                        n_sampling_pts,\n",
    "                        radius,\n",
    "                        edgy,\n",
    "                        save_det_plot = save_det_plot)\n",
    "            \n",
    "            shape.generate(magnify=1.0,\n",
    "                        xmin=xmin,\n",
    "                        xmax=xmax,\n",
    "                        ymin=ymin,\n",
    "                        ymax=ymax,\n",
    "                        latin_gen = latin_gen)\n",
    "            \n",
    "            if save_det_plot:\n",
    "                img  = filename+'_'+str(i)+\"det_plot\"+'.png'\n",
    "                shutil.move(img,  det_img_dir)\n",
    "            \n",
    "            shape.generate_bitmap(bit_im=True)\n",
    "\n",
    "            img  = filename+'_'+str(i)+\"bit\"+'.png'\n",
    "            shutil.move(img,  bit_img_dir)\n",
    "\n",
    "\n",
    "            new_rows = [{'curve_points': shape.curve_pts, 'area': shape.area, 'perimeter': shape.curve_length, \"bitmap\": shape.bitmap}]\n",
    "            df = pd.concat([df, pd.DataFrame(new_rows)], ignore_index=True)\n",
    "            generated = True\n",
    "            #meshed, n_tri = shape.mesh()\n",
    "            \"\"\"\n",
    "            if (True):\n",
    "                shape.generate_image(plot_pts=plot_pts,\n",
    "                                    max_radius = max_radius,\n",
    "                                    xmin=xmin,\n",
    "                                    xmax=xmax,\n",
    "                                    ymin=ymin,\n",
    "                                    ymax=ymax,\n",
    "                                    show_quadrants=True)\n",
    "                img  = filename+'_'+str(i)+'.png'\n",
    "                mesh = filename+'_'+str(i)+'.mesh'\n",
    "                shutil.move(img,  img_dir)\n",
    "                #shutil.move(mesh, mesh_dir)\n",
    "                generated = True\n",
    "            \"\"\"\n",
    "        bar.next()\n",
    "    bit = df[\"bitmap\"]\n",
    "    curve = df[\"area\"]\n",
    "    # End bar\n",
    "    bar.finish()\n",
    "    return bit,df\n",
    "\n",
    "    # %%\n"
   ]
  },
  {
   "cell_type": "code",
   "execution_count": null,
   "id": "85f10d79",
   "metadata": {},
   "outputs": [
    {
     "name": "stdout",
     "output_type": "stream",
     "text": [
      "[[0.   0.  ]\n",
      " [1.5  0.  ]\n",
      " [0.75 1.5 ]]\n"
     ]
    }
   ],
   "source": [
    "def get_square_coords(width=1.5, height=1.5, origin=(0, 0)):\n",
    "    x0, y0 = origin\n",
    "    return np.array([\n",
    "        [x0, y0],\n",
    "        [x0 + width, y0],\n",
    "        [x0 + width, y0 + height],\n",
    "        [x0, y0 + height],\n",
    "    ])\n",
    "\n",
    "def get_triangle_coords(width=1.5, height=1.5, origin=(0, 0)):\n",
    "    x0, y0 = origin\n",
    "    return np.array([\n",
    "        [x0, y0],                      # Bottom-left\n",
    "        [x0 + width, y0],             # Bottom-right\n",
    "        [x0 + width / 2, y0 + height],# Top-center\n",
    "    ])\n",
    "\n"
   ]
  },
  {
   "cell_type": "code",
   "execution_count": 18,
   "id": "4c38e6ad",
   "metadata": {},
   "outputs": [
    {
     "data": {
      "text/plain": [
       "(4, 2)"
      ]
     },
     "execution_count": 18,
     "metadata": {},
     "output_type": "execute_result"
    }
   ],
   "source": [
    "get_square_coords().shape"
   ]
  },
  {
   "cell_type": "code",
   "execution_count": 27,
   "id": "a8d1b4fb",
   "metadata": {},
   "outputs": [
    {
     "name": "stderr",
     "output_type": "stream",
     "text": [
      "/var/folders/9p/c80ms72x1zq5xk4ppbknqzlm0000gn/T/ipykernel_67720/1594870125.py:117: FutureWarning: The behavior of DataFrame concatenation with empty or all-NA entries is deprecated. In a future version, this will no longer exclude empty or all-NA columns when determining the result dtypes. To retain the old behavior, exclude the relevant entries before the concat operation.\n",
      "  df = pd.concat([df, pd.DataFrame(new_rows)], ignore_index=True)\n"
     ]
    },
    {
     "data": {
      "text/plain": [
       "<Figure size 640x480 with 0 Axes>"
      ]
     },
     "metadata": {},
     "output_type": "display_data"
    }
   ],
   "source": [
    "coors_points = get_square_coords()\n",
    "bit_square, df1 = generate_samples(1,coors_points.shape[0], coors_points, False)\n",
    "\n",
    "\n"
   ]
  },
  {
   "cell_type": "code",
   "execution_count": 28,
   "id": "3981827c",
   "metadata": {},
   "outputs": [
    {
     "name": "stderr",
     "output_type": "stream",
     "text": [
      "/var/folders/9p/c80ms72x1zq5xk4ppbknqzlm0000gn/T/ipykernel_67720/1594870125.py:117: FutureWarning: The behavior of DataFrame concatenation with empty or all-NA entries is deprecated. In a future version, this will no longer exclude empty or all-NA columns when determining the result dtypes. To retain the old behavior, exclude the relevant entries before the concat operation.\n",
      "  df = pd.concat([df, pd.DataFrame(new_rows)], ignore_index=True)\n"
     ]
    },
    {
     "data": {
      "text/plain": [
       "<Figure size 640x480 with 0 Axes>"
      ]
     },
     "metadata": {},
     "output_type": "display_data"
    }
   ],
   "source": [
    "coors_points = get_triangle_coords()\n",
    "bit_triangle, df1 = generate_samples(1,coors_points.shape[0], coors_points, False)"
   ]
  },
  {
   "cell_type": "code",
   "execution_count": 44,
   "id": "7cf0ea7c",
   "metadata": {},
   "outputs": [
    {
     "data": {
      "text/plain": [
       "<matplotlib.image.AxesImage at 0x16217db20>"
      ]
     },
     "execution_count": 44,
     "metadata": {},
     "output_type": "execute_result"
    },
    {
     "data": {
      "image/png": "[encoded data removed]",
      "text/plain": [
       "<Figure size 640x480 with 1 Axes>"
      ]
     },
     "metadata": {},
     "output_type": "display_data"
    }
   ],
   "source": [
    "plt.imshow((((bit_square - bit_triangle)[0])**2), cmap='gray')"
   ]
  },
  {
   "cell_type": "code",
   "execution_count": 43,
   "id": "cd3644f0",
   "metadata": {},
   "outputs": [
    {
     "data": {
      "text/plain": [
       "(600, 600)"
      ]
     },
     "execution_count": 43,
     "metadata": {},
     "output_type": "execute_result"
    }
   ],
   "source": [
    "(((bit_square - bit_triangle)[0])**2).shape"
   ]
  },
  {
   "cell_type": "code",
   "execution_count": null,
   "id": "320b2da7",
   "metadata": {},
   "outputs": [],
   "source": []
  }
 ],
 "metadata": {
  "kernelspec": {
   "display_name": "research_project",
   "language": "python",
   "name": "python3"
  },
  "language_info": {
   "codemirror_mode": {
    "name": "ipython",
    "version": 3
   },
   "file_extension": ".py",
   "mimetype": "text/x-python",
   "name": "python",
   "nbconvert_exporter": "python",
   "pygments_lexer": "ipython3",
   "version": "3.9.21"
  }
 },
 "nbformat": 4,
 "nbformat_minor": 5
}
